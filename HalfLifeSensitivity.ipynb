{
 "cells": [
  {
   "cell_type": "code",
   "execution_count": 71,
   "metadata": {},
   "outputs": [],
   "source": [
    "import math\n",
    "import numpy as np\n",
    "import matplotlib.pyplot as plt\n",
    "from scipy.interpolate import interp1d"
   ]
  },
  {
   "cell_type": "code",
   "execution_count": 72,
   "metadata": {},
   "outputs": [],
   "source": [
    "data = \"fc_aul_90cl.dat\""
   ]
  },
  {
   "cell_type": "code",
   "execution_count": 73,
   "metadata": {},
   "outputs": [],
   "source": [
    "### Read average upper limits from csv file\n",
    "a = np.genfromtxt(data, delimiter=',')\n",
    "\n",
    "### Create function from data interpolation\n",
    "aul = interp1d(a[:,0], a[:,1])"
   ]
  },
  {
   "cell_type": "code",
   "execution_count": 74,
   "metadata": {},
   "outputs": [
    {
     "data": {
      "text/plain": [
       "[<matplotlib.lines.Line2D at 0x7fdfcbc5bf10>,\n",
       " <matplotlib.lines.Line2D at 0x7fdfcbc5bf40>]"
      ]
     },
     "execution_count": 74,
     "metadata": {},
     "output_type": "execute_result"
    },
    {
     "data": {
      "image/png": "[encoded data removed]",
      "text/plain": [
       "<Figure size 432x288 with 1 Axes>"
      ]
     },
     "metadata": {
      "needs_background": "light"
     },
     "output_type": "display_data"
    }
   ],
   "source": [
    "### Plot average upper limit comparing data and interpolation\n",
    "x = np.arange(0., .9, 0.01)\n",
    "y = aul(x)\n",
    "plt.plot(a[:10,0], a[:10,1], 'o', x, y, '-')"
   ]
  },
  {
   "cell_type": "code",
   "execution_count": 75,
   "metadata": {},
   "outputs": [],
   "source": [
    "### Half-life sensitivity\n",
    "def sensitivity(exposure, eff, bkg, roi):\n",
    "    avogadro = 6.02214129E+23\n",
    "    n_bkg = exposure * bkg * roi\n",
    "    return math.log(2.) * avogadro * eff * exposure / (135.907214E-3 * aul(n_bkg))"
   ]
  },
  {
   "cell_type": "code",
   "execution_count": 79,
   "metadata": {},
   "outputs": [
    {
     "name": "stdout",
     "output_type": "stream",
     "text": [
      "2.5557946508246975e+25\n"
     ]
    }
   ],
   "source": [
    "### Standard sensitivity of NEXT-100\n",
    "exp = 100.  # kg yr\n",
    "eff = 0.28\n",
    "bkg = 4.E-4 # counts / kg / yr / keV\n",
    "roi = 28.   # keV\n",
    "s0 = sensitivity(exp,eff,bkg,roi)\n",
    "print(s0)"
   ]
  },
  {
   "cell_type": "code",
   "execution_count": 80,
   "metadata": {},
   "outputs": [
    {
     "name": "stdout",
     "output_type": "stream",
     "text": [
      "2.737973230868098e+25\n"
     ]
    }
   ],
   "source": [
    "### Improved sensitivity (CNN paper) of NEXT-100\n",
    "exp = 100.\n",
    "eff = 0.28 * 0.65/0.716\n",
    "bkg = 4.E-4 * (0.09/0.206) \n",
    "roi = 28.\n",
    "s1 = sensitivity(exp,eff,bkg,roi)\n",
    "print(s1)"
   ]
  },
  {
   "cell_type": "code",
   "execution_count": 81,
   "metadata": {},
   "outputs": [
    {
     "name": "stdout",
     "output_type": "stream",
     "text": [
      "1.07128060150866\n"
     ]
    }
   ],
   "source": [
    "print(s1/s0)"
   ]
  },
  {
   "cell_type": "code",
   "execution_count": null,
   "metadata": {},
   "outputs": [],
   "source": []
  }
 ],
 "metadata": {
  "kernelspec": {
   "display_name": "Python 3",
   "language": "python",
   "name": "python3"
  },
  "language_info": {
   "codemirror_mode": {
    "name": "ipython",
    "version": 3
   },
   "file_extension": ".py",
   "mimetype": "text/x-python",
   "name": "python",
   "nbconvert_exporter": "python",
   "pygments_lexer": "ipython3",
   "version": "3.8.5"
  }
 },
 "nbformat": 4,
 "nbformat_minor": 4
}
